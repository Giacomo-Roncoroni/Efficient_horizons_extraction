{
  "nbformat": 4,
  "nbformat_minor": 0,
  "metadata": {
    "colab": {
      "name": "02_NN_training.ipynb",
      "provenance": [],
      "collapsed_sections": []
    },
    "kernelspec": {
      "name": "python3",
      "display_name": "Python 3"
    },
    "language_info": {
      "name": "python"
    }
  },
  "cells": [
    {
      "cell_type": "code",
      "metadata": {
        "id": "vEtgbw2CZtH9"
      },
      "source": [
        "# use tensorflow version = 1.x works on google colab\n",
        "%tensorflow_version 1.x\n",
        "\n",
        "import keras\n",
        "from keras.models import  Model, load_model\n",
        "from keras.layers import *\n",
        "import keras.backend as K\n",
        "import tensorflow as tf\n",
        "import numpy as np\n",
        "import os\n",
        "import matplotlib\n",
        "matplotlib.use('agg')\n",
        "import matplotlib.pyplot as plt"
      ],
      "execution_count": null,
      "outputs": []
    },
    {
      "cell_type": "code",
      "metadata": {
        "id": "jJAN87tNaPL1"
      },
      "source": [
        "# using CuDNNLSTM we need GPU. \n",
        "# ensure you are using GPU\n",
        "def check_GPU():\n",
        "    if tf.test.is_gpu_available()==False:\n",
        "        print('No GPU available. You need a GPU to use Cuda!')\n",
        "        exit()\n",
        "    else:\n",
        "        print('GPU found!')\n",
        "\t\n",
        "# function used to define NN geometry\n",
        "# this was usefull for the gridsearch on geometry:\n",
        "# inputs are:\n",
        "## layers: list of 0s and 1s of shape (NN depth -1) [int]\n",
        "### 0: normal LSTM\n",
        "### 1: Bidirectional(LSTM)\n",
        "## neurons:  list of number of neurnons of shape (NN depth) [int]\n",
        "### neurons[-1] must be = 2 for this problem\n",
        "def NN_LSTMgen(layers=[0,1, 0, 0], neurons=[1,32,16,8, 1]):\n",
        "    # use Keras Input function: init input for NN\n",
        "    main_input = Input(shape=(None, 1), name='main_input')\n",
        "    # if layer == 0 --> 1st is a LSTM, else put a Bidirectional(LSTM)\n",
        "    if layers[0]==0:\n",
        "        x = CuDNNLSTM(neurons[0], return_sequences=True)(main_input)\n",
        "    elif layers[0]==1:\n",
        "        x = Bidirectional(CuDNNLSTM(neurons[0], return_sequences=True))(main_input)\n",
        "    else:\n",
        "        print('Wrong first layer! Must start with LSTM o Bidirectional(LSTM)')     \n",
        "        exit()   \n",
        "    # for each layer, stack as done before LSTM and Bidirectional(LSTM) \n",
        "    for i in range(1, np.shape(neurons)[0] - 1):\n",
        "        if layers[i]==0:\n",
        "            x = CuDNNLSTM(neurons[i], return_sequences=True)(x)    \n",
        "        elif layers[i]==1:\n",
        "            x = Bidirectional(CuDNNLSTM(neurons[i], return_sequences=True))(x)\n",
        "        else:\n",
        "            print('Unknown layer! Must be a LSTM [0] o Bidirectional(LSTM) [1]')   \n",
        "    # last layer must be a Dense (for classification with softmax)     \n",
        "    main_output = Dense(neurons[-1], activation='softmax')(x)\n",
        "    # return model\n",
        "    return Model(inputs=[main_input], outputs=[main_output])\n",
        "\n",
        "# train function --> usefull for grid search\n",
        "# input: number of epochs, batch_size and model_path (save path for the trained model)\n",
        "def trainNN(epochs, batch=1024, pathm='model/'):\n",
        "    # define Early stopping criterion\n",
        "    es = EarlyStopping(monitor='val_loss', mode='min', verbose=1, patience=50)\n",
        "    # fit the model with model.fit() keras function\n",
        "    history=model.fit(X_train, y_train, validation_data=(X_val, y_val),  epochs = epochs, batch_size = batch, verbose = 1, callbacks=[es])\n",
        "    # save trained model\n",
        "    model.save(pathm + 'model_final.h5')\n",
        "    return history, model\n",
        "\n"
      ],
      "execution_count": null,
      "outputs": []
    },
    {
      "cell_type": "code",
      "metadata": {
        "id": "-6_Oz1dTaVTp"
      },
      "source": [
        "# define data path\n",
        "data_path = 'data_no_noise/'\n",
        "# load X_train, X_val, y_train, y_val\n",
        "X_train = np.load(data_path + 'X_train.npy')\n",
        "X_val   = np.load(data_path + 'X_val.npy')\n",
        "y_train = np.load(data_path + 'y_train.npy')\n",
        "y_val   = np.load(data_path + 'y_val.npy')\n",
        "\n",
        "# check GPU is working and is a CUDA GPU\n",
        "GPU = check_GPU()"
      ],
      "execution_count": null,
      "outputs": []
    },
    {
      "cell_type": "code",
      "metadata": {
        "id": "fW7Hu-rAacxx"
      },
      "source": [
        "# create keras model\n",
        "model = NN_LSTMgen([0, 1, 0, 0, 0], [4 ,8 ,16, 8, 4, 2])\n",
        "\n",
        "# init optimizer\n",
        "opt = keras.optimizers.Adamax(lr = 1e-3)\n",
        "\n",
        "# compile the model\n",
        "model.compile(loss='categorical_crossentroy', optimizer=opt, metrics=['acc'])\n",
        "\n",
        "# fit the model\n",
        "history_no_noise,  model_no_noise = trainNN(500, pathm='model_no_noise/')"
      ],
      "execution_count": null,
      "outputs": []
    },
    {
      "cell_type": "code",
      "metadata": {
        "id": "3NdPY1xObDLr"
      },
      "source": [
        "# load trained model\n",
        "model = load_model(data_path + 'model_final.h5')\n",
        "\n",
        "# define new data path\n",
        "data_path = 'data_noise/'\n",
        "# load X_train, X_val, y_train, y_val\n",
        "X_train = np.load(data_path + 'X_train.npy')\n",
        "X_val   = np.load(data_path + 'X_val.npy')\n",
        "y_train = np.load(data_path + 'y_train.npy')\n",
        "y_val   = np.load(data_path + 'y_val.npy')\n",
        "\n",
        "# check GPU is working and is a CUDA GPU\n",
        "GPU = check_GPU()"
      ],
      "execution_count": null,
      "outputs": []
    },
    {
      "cell_type": "code",
      "metadata": {
        "id": "IZcbjNfybID5"
      },
      "source": [
        "# compile trained model and fit \n",
        "model.compile(loss='categorical_crossentroy', optimizer=opt, metrics=['acc'])\n",
        "history,  model = trainNN(2500, pathm='model_no_noise/')"
      ],
      "execution_count": null,
      "outputs": []
    }
  ]
}